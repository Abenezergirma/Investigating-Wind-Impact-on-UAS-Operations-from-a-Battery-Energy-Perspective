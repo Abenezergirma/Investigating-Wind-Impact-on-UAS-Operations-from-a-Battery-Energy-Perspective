{
 "cells": [
  {
   "cell_type": "markdown",
   "id": "8c07fe35",
   "metadata": {},
   "source": [
    "# Instructions\n",
    "\n",
    "The aircraft model we use in this project is an octocopter model, specifically known as Tarrot T18. You can take a look at this paper to understand the dynamic model and low level control design of the aircraft.  `Detailed octorotor modeling and PD control` https://ieeexplore.ieee.org/document/7844562. The main goal this week is to gain a working understanding of this aircraft model. \n",
    "\n",
    "#### More specifically, by the end of this week, you should be able to perform the following four tasks: "
   ]
  },
  {
   "cell_type": "markdown",
   "id": "d3204ca3",
   "metadata": {},
   "source": [
    "1. Read the above paper (or other sources online) and explain the main components of the aircraft and their uses in the operation of the aircraft: \n",
    "    - Airframe\n",
    "    - Controller\n",
    "    - Control allocation\n",
    "    - Motor "
   ]
  },
  {
   "cell_type": "markdown",
   "id": "7cc0cf61",
   "metadata": {},
   "source": [
    "2. Install MATLAB/SIMULINK and run the MATLAB + SIMULINK code inside `vehicle model` folder. To do so, open the folder in MATLAB and run the `windexperiments.m` file.   "
   ]
  },
  {
   "cell_type": "markdown",
   "id": "74d4e3fb",
   "metadata": {},
   "source": [
    "3. Run the vehicle model under several wind conditions and collect the **current requirement**.   "
   ]
  },
  {
   "cell_type": "markdown",
   "id": "73772596",
   "metadata": {},
   "source": [
    "4. Use the collected **current requirement** and simulate the battery model.  "
   ]
  },
  {
   "cell_type": "code",
   "execution_count": null,
   "id": "b932d5d8",
   "metadata": {},
   "outputs": [],
   "source": []
  }
 ],
 "metadata": {
  "kernelspec": {
   "display_name": "Python 3 (ipykernel)",
   "language": "python",
   "name": "python3"
  },
  "language_info": {
   "codemirror_mode": {
    "name": "ipython",
    "version": 3
   },
   "file_extension": ".py",
   "mimetype": "text/x-python",
   "name": "python",
   "nbconvert_exporter": "python",
   "pygments_lexer": "ipython3",
   "version": "3.10.8"
  }
 },
 "nbformat": 4,
 "nbformat_minor": 5
}
