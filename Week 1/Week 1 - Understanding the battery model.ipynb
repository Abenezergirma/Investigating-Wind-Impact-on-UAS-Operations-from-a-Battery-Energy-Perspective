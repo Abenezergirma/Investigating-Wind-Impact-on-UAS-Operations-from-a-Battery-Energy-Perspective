{
 "cells": [
  {
   "cell_type": "markdown",
   "id": "b3d187d7",
   "metadata": {},
   "source": [
    "# Instructions\n",
    "\n",
    "Batteries are becoming increasingly prevalent in unmanned aerial vehicles. Hence, one of the major challenges that\n",
    "need to be addressed to successfully integrate unmanned aerial vehicles into the national airspace is the assessment of flight mission risks associated with the available battery energy. The overall objective of your summer project is to contribute to the development of a framework to quantify uncertainty in mission success due to available battery energy.\n",
    "\n",
    "The battery model we employed in this project is an electro-chemical based battery model of Lithium-ion battery `M. Daigle and C. Kulkarni, \"Electrochemistry-based Battery Modeling for Prognostics,\" Annual Conference of the Prognostics and Health Management Society 2013, pp. 249-261, New Orleans, LA, October 2013.` https://papers.phmsociety.org/index.php/phmconf/article/view/2252. The main goal this week is to gain a working understanding of this battery model. \n",
    "\n",
    "#### More specifically, by the end of this week, you should be able to perform the following three tasks: \n"
   ]
  },
  {
   "cell_type": "markdown",
   "id": "abc9a7dc",
   "metadata": {},
   "source": [
    "1. Read the above paper (or other sources online) and explain the following common terminologies used to describe the operation of Li-ion batteries: \n",
    "    - Voltage\n",
    "    - Current \n",
    "    - Resistance \n",
    "    - State of Charge (SoC)"
   ]
  },
  {
   "cell_type": "markdown",
   "id": "e5a1ed73",
   "metadata": {},
   "source": [
    "2. Read the above paper (or other sources online) and explain the __inputs, outputs,__ and __states__ of a Li-ion battery model"
   ]
  },
  {
   "cell_type": "markdown",
   "id": "af12611d",
   "metadata": {},
   "source": [
    "3. Implement and simulate the battery model given in `battery_electrochem_TarotT18.py`. For your simulations use at least 3 different current inputs from the `current inputs` folder. You can refer to `Simulate battery.ipynb` for example explentations. "
   ]
  },
  {
   "cell_type": "code",
   "execution_count": null,
   "id": "ad46dc21",
   "metadata": {},
   "outputs": [],
   "source": []
  }
 ],
 "metadata": {
  "kernelspec": {
   "display_name": "Python 3 (ipykernel)",
   "language": "python",
   "name": "python3"
  },
  "language_info": {
   "codemirror_mode": {
    "name": "ipython",
    "version": 3
   },
   "file_extension": ".py",
   "mimetype": "text/x-python",
   "name": "python",
   "nbconvert_exporter": "python",
   "pygments_lexer": "ipython3",
   "version": "3.10.8"
  }
 },
 "nbformat": 4,
 "nbformat_minor": 5
}
