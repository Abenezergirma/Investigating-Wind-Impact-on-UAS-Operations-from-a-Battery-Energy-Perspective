{
 "cells": [
  {
   "cell_type": "markdown",
   "id": "fc5f78f6",
   "metadata": {},
   "source": [
    "# Description\n",
    "#### The goal of this code is to validate the accuracy of the vehicle model. Basically, we want to see given a flight plan for the implemented vehicle, how much the uav model generated current is closer to the actual flight current.\n",
    "\n",
    "\n",
    "From the current status of the project, this task seems a little difficult as the model obviously has difference. However, the general procedure that needs to be followed to achieve the task at hand will be:\n",
    "- Get the actual position data of the flight\n",
    "- Use that position data to simulate the uav\n",
    "- Collect the current input to the battery from the simulated uav\n",
    "- compare that current input to the actual current profile "
   ]
  },
  {
   "cell_type": "code",
   "execution_count": 16,
   "id": "17843dd5",
   "metadata": {},
   "outputs": [],
   "source": [
    "import pickle \n",
    "import numpy as np\n",
    "import matplotlib.pyplot as plt\n",
    "import collections\n",
    "import pandas as pd\n",
    "from scipy import stats\n",
    "from scipy.stats import norm\n",
    "from prog_algs.metrics import prob_success\n",
    "from sklearn.preprocessing import normalize \n",
    "from pathlib import Path\n",
    "import sys \n",
    "import utm \n",
    "\n",
    "sys.path.append('/home/abenezertaye/Desktop/Research/Codes/NASA/Battery Prognostics/Battery Prognostics/Plots and Results/')    "
   ]
  },
  {
   "cell_type": "markdown",
   "id": "423e9294",
   "metadata": {},
   "source": [
    "# Import flight data and convert to x and y pos"
   ]
  },
  {
   "cell_type": "code",
   "execution_count": 98,
   "id": "5c98f9dc",
   "metadata": {},
   "outputs": [],
   "source": [
    "flight_number = 3\n",
    "# Import the flight position \n",
    "data_frame = pd.read_csv('./flight_positions/position_data_{flight_number}.csv'.format(flight_number=flight_number))\n",
    "altitude = data_frame['alt'].dropna().to_numpy()\n",
    "latitude = data_frame['lat'].dropna().to_numpy()\n",
    "longitude = data_frame['lng'].dropna().to_numpy()\n",
    "\n",
    "# Convert the lat, lon to x & y\n",
    "x, y,zone,U = utm.from_latlon(latitude, longitude)\n",
    "x_reference, y_reference = x[0], y[0]\n",
    "\n",
    "x = x - x_reference\n",
    "y = y - y_reference\n",
    "# ax = plt.figure().add_subplot(projection='3d')\n",
    "\n",
    "# ax.plot(x, y, altitude)\n",
    "# ax.set_xlabel('x')\n",
    "# ax.set_ylabel('y')\n",
    "# ax.set_zlabel('z')\n",
    "# plt.grid()\n",
    "# plt.title('3D Trajectory')"
   ]
  },
  {
   "cell_type": "code",
   "execution_count": 99,
   "id": "9c01ae39",
   "metadata": {},
   "outputs": [
    {
     "data": {
      "text/plain": [
       "376740.66653360194"
      ]
     },
     "execution_count": 99,
     "metadata": {},
     "output_type": "execute_result"
    }
   ],
   "source": [
    "x_reference"
   ]
  },
  {
   "cell_type": "markdown",
   "id": "5bbf3223",
   "metadata": {},
   "source": [
    "# Import simulated x and y and convert to lat and long"
   ]
  },
  {
   "cell_type": "code",
   "execution_count": 190,
   "id": "6ed5b329",
   "metadata": {},
   "outputs": [],
   "source": [
    "# longer flight test\n",
    "wp = np.asarray([\n",
    "    [0.0, 0.0, 100.0],\n",
    "    [600.0, 0.0, 100.0],\n",
    "    [650.0, 30.0, 100.0],\n",
    "    [650.0, 100.0, 100.0],\n",
    "    [600.0, 120.0, 100.0],\n",
    "    [50.0, 120.0, 100.0],\n",
    "    [0.0, 150.0, 100.0],\n",
    "    [0.0, 200.0, 100.0],\n",
    "    [50.0, 250.0, 100.0],\n",
    "    [600.0, 250.0, 100.0],\n",
    "    [650.0, 300.0, 100.0],\n",
    "    [650.0, 400.0, 100.0],\n",
    "    [600.0, 450.0, 100.0],\n",
    "    [0.0, 450.0, 100.0],\n",
    "])\n",
    "\n",
    "#shorter trajectory\n",
    "wp = np.asarray([\n",
    "    [0.0, 0.0, 100.0],\n",
    "    [600.0, 0.0, 100.0],\n",
    "    [650.0, 30.0, 100.0],\n",
    "    [650.0, 100.0, 100.0],\n",
    "    [600.0, 120.0, 100.0],\n",
    "    [50.0, 120.0, 100.0],\n",
    "    [0.0, 150.0, 100.0],\n",
    "    [0.0, 200.0, 100.0],\n",
    "    [50.0, 250.0, 100.0],\n",
    "    [600.0, 250.0, 100.0],\n",
    "#     [650.0, 300.0, 100.0],\n",
    "#     [650.0, 400.0, 100.0],\n",
    "#     [600.0, 450.0, 100.0],\n",
    "#     [0.0, 450.0, 100.0],\n",
    "])\n",
    "\n",
    "x_reference, y_reference = 376740.66653360194, 4107116.8363571083\n",
    "\n",
    "# interpolate the x and y pos \n",
    "x = wp[:,0] #+ x_reference\n",
    "y = wp[:,1] #+ y_reference\n",
    "path_y = np.zeros(1)\n",
    "path_x = np.zeros(1)\n",
    "for i in range(0,len(x)-1):\n",
    "    segment_x = np.linspace(x[i],x[i+1],100)\n",
    "    segment_y = np.linspace(y[i],y[i+1],100)\n",
    "    path_x = np.concatenate((path_x, segment_x), axis=0)\n",
    "    path_y = np.concatenate((path_y, segment_y), axis=0)\n",
    "\n",
    "\n",
    "x = path_x + x_reference\n",
    "y = path_y + y_reference\n",
    "\n",
    "lat, long = utm.to_latlon(x, y, zone, U)\n",
    "\n",
    "path = np.stack((lat, long), axis=1)\n",
    "# convert array into dataframe\n",
    "DF = pd.DataFrame(path)\n",
    " \n",
    "# save the dataframe as a csv file\n",
    "DF.to_csv(\"short_traj.csv\")"
   ]
  },
  {
   "cell_type": "code",
   "execution_count": 186,
   "id": "1b2f0ca1",
   "metadata": {},
   "outputs": [],
   "source": [
    "# plt.plot(x,y)\n",
    "# plt.plot(path_x,path_y)"
   ]
  },
  {
   "cell_type": "markdown",
   "id": "7a725fde",
   "metadata": {},
   "source": [
    "# Export the lat and long of the trajectory"
   ]
  },
  {
   "cell_type": "code",
   "execution_count": 49,
   "id": "189fa01a",
   "metadata": {},
   "outputs": [],
   "source": [
    "pos_csv = data_frame[['lat','lng']].to_csv('pos_csv_{flight_number}.csv'.format(flight_number=flight_number))"
   ]
  },
  {
   "cell_type": "markdown",
   "id": "2c7ed0c7",
   "metadata": {},
   "source": [
    "# Import the simulated current (in ms) and convert to 0.1 sec"
   ]
  },
  {
   "cell_type": "code",
   "execution_count": 76,
   "id": "81e254f4",
   "metadata": {},
   "outputs": [],
   "source": [
    "# Import the current input of flight 1\n",
    "Iapp = np.loadtxt('./current_inputs/Iapp_long_trajectory') # Actual trajectory - Flight 1\n",
    "np.savetxt('Iapp_short',Iapp[::100])\n",
    "# plt.plot(Iapp[::100])\n",
    "# aa = np.loadtxt('Iapp_expt')"
   ]
  },
  {
   "cell_type": "code",
   "execution_count": 89,
   "id": "8d795938",
   "metadata": {},
   "outputs": [
    {
     "data": {
      "text/plain": [
       "4107116.8363571083"
      ]
     },
     "execution_count": 89,
     "metadata": {},
     "output_type": "execute_result"
    }
   ],
   "source": [
    "y_reference"
   ]
  },
  {
   "cell_type": "code",
   "execution_count": 83,
   "id": "312a1a87",
   "metadata": {},
   "outputs": [],
   "source": []
  },
  {
   "cell_type": "code",
   "execution_count": 81,
   "id": "782ddfa3",
   "metadata": {},
   "outputs": [],
   "source": []
  },
  {
   "cell_type": "code",
   "execution_count": 85,
   "id": "146fc0d7",
   "metadata": {},
   "outputs": [],
   "source": []
  },
  {
   "cell_type": "code",
   "execution_count": null,
   "id": "b3a986ab",
   "metadata": {},
   "outputs": [],
   "source": []
  }
 ],
 "metadata": {
  "kernelspec": {
   "display_name": "Python 3 (ipykernel)",
   "language": "python",
   "name": "python3"
  },
  "language_info": {
   "codemirror_mode": {
    "name": "ipython",
    "version": 3
   },
   "file_extension": ".py",
   "mimetype": "text/x-python",
   "name": "python",
   "nbconvert_exporter": "python",
   "pygments_lexer": "ipython3",
   "version": "3.10.8"
  }
 },
 "nbformat": 4,
 "nbformat_minor": 5
}
